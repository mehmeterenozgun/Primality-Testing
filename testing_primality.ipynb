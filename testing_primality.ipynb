{
 "cells": [
  {
   "metadata": {
    "ExecuteTime": {
     "end_time": "2025-05-17T16:13:25.557499Z",
     "start_time": "2025-05-17T16:13:24.888079Z"
    }
   },
   "cell_type": "code",
   "source": [
    "import random\n",
    "import time\n",
    "import csv\n",
    "import pandas as pd\n",
    "import matplotlib.pyplot as plt"
   ],
   "id": "7038cf03bca4c2e",
   "outputs": [],
   "execution_count": 48
  },
  {
   "metadata": {
    "ExecuteTime": {
     "end_time": "2025-05-17T16:02:11.128199Z",
     "start_time": "2025-05-17T16:02:11.125323Z"
    }
   },
   "cell_type": "code",
   "source": "small_primes = [2, 3, 5, 7, 11, 13, 17, 19, 23, 29, 31, 37]",
   "id": "caf07eb29dbac5a3",
   "outputs": [],
   "execution_count": 43
  },
  {
   "metadata": {
    "ExecuteTime": {
     "end_time": "2025-05-17T16:02:11.767193Z",
     "start_time": "2025-05-17T16:02:11.762370Z"
    }
   },
   "cell_type": "code",
   "source": [
    "def is_probable_prime(n, k=10):\n",
    "    \"\"\"Return True if n is probably prime (error ≤ 4⁻ᵏ), else False.\"\"\"\n",
    "    if n < 2:\n",
    "        return False\n",
    "\n",
    "    # Quick screening by small primes\n",
    "    for p in small_primes:\n",
    "        if n == p:\n",
    "            return True\n",
    "        if n % p == 0:\n",
    "            return False\n",
    "\n",
    "    # Write n-1 as 2^s * d with d odd\n",
    "    d = n - 1\n",
    "    s = (d & -d).bit_length() - 1\n",
    "    d >>= s\n",
    "\n",
    "    # k rounds of testing\n",
    "    for _ in range(k):\n",
    "        a = random.randrange(2, n - 1)\n",
    "        # a = secrets.randbelow(n - 3) + 2  # for crypto\n",
    "        x = pow(a, d, n)\n",
    "        if x == 1 or x == n - 1:\n",
    "            continue\n",
    "        for _ in range(s - 1):\n",
    "            x = pow(x, 2, n)\n",
    "            if x == n - 1:\n",
    "                break\n",
    "        else:\n",
    "            # no break → composite\n",
    "            return False\n",
    "\n",
    "    return True"
   ],
   "id": "705859df42e2e254",
   "outputs": [],
   "execution_count": 44
  },
  {
   "metadata": {
    "ExecuteTime": {
     "end_time": "2025-05-17T16:02:12.509508Z",
     "start_time": "2025-05-17T16:02:12.505506Z"
    }
   },
   "cell_type": "code",
   "source": [
    "def run_tests(bit_size, trials=10000, k=5):\n",
    "    \"\"\"Run the Rabin test `trials` times on random `bit_size`-bit odds.\n",
    "       Returns (total_time_s, avg_ms, false_positives).\"\"\"\n",
    "    false_positives = 0\n",
    "    start = time.perf_counter()\n",
    "    for _ in range(trials):\n",
    "        n = random.getrandbits(bit_size) | 1 | (1 << (bit_size - 1))\n",
    "        # ground truth: divisible by any small prime means composite\n",
    "        if is_probable_prime(n, k) and not all(n % p for p in small_primes):\n",
    "            false_positives += 1\n",
    "    elapsed = time.perf_counter() - start\n",
    "    avg_ms = (elapsed / trials) * 1000\n",
    "    return elapsed, avg_ms, false_positives"
   ],
   "id": "d2129ee83b41e76c",
   "outputs": [],
   "execution_count": 45
  },
  {
   "metadata": {
    "ExecuteTime": {
     "end_time": "2025-05-17T16:08:42.542775Z",
     "start_time": "2025-05-17T16:07:04.667186Z"
    }
   },
   "cell_type": "code",
   "source": [
    "if __name__ == \"__main__\":\n",
    "    # Open CSV and write header\n",
    "    with open('rabin_results.csv', 'w', newline='') as csvfile:\n",
    "        writer = csv.writer(csvfile)\n",
    "        writer.writerow([\n",
    "            'bit_size', 'trials', 'k',\n",
    "            'total_time_s', 'avg_ms_per_test', 'false_positives'\n",
    "        ])\n",
    "\n",
    "        # Test for bit-sizes 2^3=8 up to 2^11=2048\n",
    "        for exp in range(3, 12):\n",
    "            bit_size = 2 ** exp\n",
    "            elapsed, avg_ms, false_pos = run_tests(bit_size, trials=10000, k=5)\n",
    "            writer.writerow([\n",
    "                bit_size, 10000, 5,\n",
    "                f\"{elapsed:.4f}\", f\"{avg_ms:.3f}\", false_pos\n",
    "            ])\n",
    "    print(\"Results saved to rabin_results.csv\")"
   ],
   "id": "354d1684f30fe0c4",
   "outputs": [
    {
     "name": "stdout",
     "output_type": "stream",
     "text": [
      "Results saved to rabin_results.csv\n"
     ]
    }
   ],
   "execution_count": 47
  },
  {
   "metadata": {
    "ExecuteTime": {
     "end_time": "2025-05-17T16:13:32.639611Z",
     "start_time": "2025-05-17T16:13:32.524146Z"
    }
   },
   "cell_type": "code",
   "source": [
    "# Load the results\n",
    "df = pd.read_csv('rabin_results.csv')\n",
    "\n",
    "# Plot\n",
    "plt.figure()\n",
    "plt.plot(df['bit_size'], df['avg_ms_per_test'])\n",
    "plt.xlabel('Bit-size')\n",
    "plt.ylabel('Average runtime (ms)')\n",
    "plt.title('Rabin Test: Bit-size vs. Average Runtime')\n",
    "plt.show()"
   ],
   "id": "46991a43330d3337",
   "outputs": [
    {
     "data": {
      "text/plain": [
       "<Figure size 640x480 with 1 Axes>"
      ],
      "image/png": "[encoded data removed]"
     },
     "metadata": {},
     "output_type": "display_data"
    }
   ],
   "execution_count": 49
  },
  {
   "metadata": {},
   "cell_type": "code",
   "outputs": [],
   "execution_count": null,
   "source": "",
   "id": "f0b9a8abf83325b2"
  }
 ],
 "metadata": {
  "kernelspec": {
   "display_name": "Python 3",
   "language": "python",
   "name": "python3"
  },
  "language_info": {
   "codemirror_mode": {
    "name": "ipython",
    "version": 2
   },
   "file_extension": ".py",
   "mimetype": "text/x-python",
   "name": "python",
   "nbconvert_exporter": "python",
   "pygments_lexer": "ipython2",
   "version": "2.7.6"
  }
 },
 "nbformat": 4,
 "nbformat_minor": 5
}
