{
 "cells": [
  {
   "metadata": {
    "ExecuteTime": {
     "end_time": "2025-05-17T13:08:05.617659Z",
     "start_time": "2025-05-17T13:08:05.610527Z"
    }
   },
   "cell_type": "code",
   "source": [
    "import random\n",
    "import time"
   ],
   "id": "d04aaf109e60f95c",
   "outputs": [],
   "execution_count": 8
  },
  {
   "cell_type": "code",
   "id": "initial_id",
   "metadata": {
    "collapsed": true,
    "ExecuteTime": {
     "end_time": "2025-05-17T13:08:06.017069Z",
     "start_time": "2025-05-17T13:08:06.014176Z"
    }
   },
   "source": [
    "def is_probable_prime(n, k=10):\n",
    "    if n < 2:\n",
    "        return False\n",
    "    # small primes\n",
    "    small_primes = [2,3,5,7,11,13,17,19,23]\n",
    "    for p in small_primes:\n",
    "        if n == p:\n",
    "            return True\n",
    "        if n % p == 0:\n",
    "            return False\n",
    "    # factor n-1\n",
    "    s, d = 0, n-1\n",
    "    while d % 2 == 0:\n",
    "        d //= 2\n",
    "        s += 1\n",
    "    # k trials\n",
    "    for _ in range(k):\n",
    "        a = random.randrange(2, n-1)\n",
    "        x = pow(a, d, n)\n",
    "        if x in (1, n-1):\n",
    "            continue\n",
    "        for _ in range(s-1):\n",
    "            x = pow(x, 2, n)\n",
    "            if x == n-1:\n",
    "                break\n",
    "        else:\n",
    "            return False\n",
    "    return True"
   ],
   "outputs": [],
   "execution_count": 9
  },
  {
   "metadata": {
    "ExecuteTime": {
     "end_time": "2025-05-17T13:09:05.847040Z",
     "start_time": "2025-05-17T13:09:05.842652Z"
    }
   },
   "cell_type": "code",
   "source": [
    "def run_tests(bit_size, trials=100000000000, k=5):\n",
    "    false_positives = 0\n",
    "    start = time.perf_counter()\n",
    "    for _ in range(trials):\n",
    "        # generate a random odd integer of the given bit size\n",
    "        n = random.getrandbits(bit_size) | 1 | (1 << (bit_size-1))\n",
    "        if is_probable_prime(n, k) and not all(n % p for p in [2,3,5,7,11,13,17,19,23]):\n",
    "            # worst-case: this flags a small prime as false positive\n",
    "            false_positives += 1\n",
    "    elapsed = time.perf_counter() - start\n",
    "    print(f\"{bit_size}-bit: {trials} tests in {elapsed:.2f}s — avg {elapsed/trials*100000:.3f} ms/test, false positives: {false_positives}\")"
   ],
   "id": "1868526f72e88777",
   "outputs": [],
   "execution_count": 15
  },
  {
   "metadata": {
    "ExecuteTime": {
     "end_time": "2025-05-17T13:09:14.128763Z",
     "start_time": "2025-05-17T13:09:07.142548Z"
    }
   },
   "cell_type": "code",
   "source": [
    "\n",
    "if __name__ == \"__main__\":\n",
    "    run_tests(32)\n",
    "    run_tests(64)"
   ],
   "id": "3bf9d1f8feb5c9c2",
   "outputs": [
    {
     "name": "stdout",
     "output_type": "stream",
     "text": [
      "32-bit: 1000000 tests in 2.43s — avg 0.243 ms/test, false positives: 0\n",
      "64-bit: 1000000 tests in 4.55s — avg 0.455 ms/test, false positives: 0\n"
     ]
    }
   ],
   "execution_count": 16
  },
  {
   "metadata": {},
   "cell_type": "code",
   "outputs": [],
   "execution_count": null,
   "source": "",
   "id": "46991a43330d3337"
  }
 ],
 "metadata": {
  "kernelspec": {
   "display_name": "Python 3",
   "language": "python",
   "name": "python3"
  },
  "language_info": {
   "codemirror_mode": {
    "name": "ipython",
    "version": 2
   },
   "file_extension": ".py",
   "mimetype": "text/x-python",
   "name": "python",
   "nbconvert_exporter": "python",
   "pygments_lexer": "ipython2",
   "version": "2.7.6"
  }
 },
 "nbformat": 4,
 "nbformat_minor": 5
}
