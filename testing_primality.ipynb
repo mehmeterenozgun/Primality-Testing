{
 "cells": [
  {
   "metadata": {
    "ExecuteTime": {
     "end_time": "2025-05-17T15:42:05.494886Z",
     "start_time": "2025-05-17T15:42:05.492298Z"
    }
   },
   "cell_type": "code",
   "source": [
    "import random\n",
    "import time"
   ],
   "id": "7038cf03bca4c2e",
   "outputs": [],
   "execution_count": 35
  },
  {
   "metadata": {
    "ExecuteTime": {
     "end_time": "2025-05-17T15:42:05.924255Z",
     "start_time": "2025-05-17T15:42:05.921725Z"
    }
   },
   "cell_type": "code",
   "source": "small_primes = [2, 3, 5, 7, 11, 13, 17, 19, 23, 29, 31, 37]",
   "id": "caf07eb29dbac5a3",
   "outputs": [],
   "execution_count": 36
  },
  {
   "metadata": {
    "ExecuteTime": {
     "end_time": "2025-05-17T15:42:06.327333Z",
     "start_time": "2025-05-17T15:42:06.324343Z"
    }
   },
   "cell_type": "code",
   "source": [
    "def is_probable_prime(n, k=10):\n",
    "    \"\"\"Return True if n is probably prime (error ≤ 4⁻ᵏ), else False.\"\"\"\n",
    "    if n < 2:\n",
    "        return False\n",
    "\n",
    "    # Quick screening by small primes\n",
    "    for p in small_primes:\n",
    "        if n == p:\n",
    "            return True\n",
    "        if n % p == 0:\n",
    "            return False\n",
    "\n",
    "    # Write n-1 as 2^s * d with d odd\n",
    "    d = n - 1\n",
    "    s = (d & -d).bit_length() - 1\n",
    "    d >>= s\n",
    "\n",
    "    # k rounds of testing\n",
    "    for _ in range(k):\n",
    "        a = random.randrange(2, n - 1)\n",
    "        # a = secrets.randbelow(n - 3) + 2  # for crypto\n",
    "        x = pow(a, d, n)\n",
    "        if x == 1 or x == n - 1:\n",
    "            continue\n",
    "        for _ in range(s - 1):\n",
    "            x = pow(x, 2, n)\n",
    "            if x == n - 1:\n",
    "                break\n",
    "        else:\n",
    "            # no break → composite\n",
    "            return False\n",
    "\n",
    "    return True"
   ],
   "id": "705859df42e2e254",
   "outputs": [],
   "execution_count": 37
  },
  {
   "metadata": {},
   "cell_type": "code",
   "source": [
    "def run_tests(bit_size, trials=10000, k=5):\n",
    "    false_positives = 0\n",
    "    start = time.perf_counter()\n",
    "    for _ in range(trials):\n",
    "        # generate a random odd integer of the given bit size\n",
    "        n = random.getrandbits(bit_size) | 1 | (1 << (bit_size-1))\n",
    "        if is_probable_prime(n, k) and not all(n % p for p in small_primes):\n",
    "            # worst-case: this flags a small prime as false positive\n",
    "            false_positives += 1\n",
    "    elapsed = time.perf_counter() - start\n",
    "    avg_ms = (elapsed / trials) * 1000\n",
    "    print(f\"{bit_size}-bit: {trials} tests in {elapsed:.2f}s — \"\n",
    "      f\"avg {avg_ms:.3f} ms/test, false positives: {false_positives}\")"
   ],
   "id": "767098b368a79417",
   "outputs": [],
   "execution_count": null
  },
  {
   "metadata": {
    "ExecuteTime": {
     "end_time": "2025-05-17T15:42:38.106861Z",
     "start_time": "2025-05-17T15:42:38.103078Z"
    }
   },
   "cell_type": "code",
   "outputs": [],
   "execution_count": 40,
   "source": [
    "if __name__ == \"__main__\":\n",
    "    for bit_size in range(3, 13):\n",
    "        run_tests(pow(2, bit_size))\n",
    "    "
   ],
   "id": "354d1684f30fe0c4"
  },
  {
   "metadata": {},
   "cell_type": "code",
   "outputs": [],
   "execution_count": null,
   "source": "",
   "id": "46991a43330d3337"
  }
 ],
 "metadata": {
  "kernelspec": {
   "display_name": "Python 3",
   "language": "python",
   "name": "python3"
  },
  "language_info": {
   "codemirror_mode": {
    "name": "ipython",
    "version": 2
   },
   "file_extension": ".py",
   "mimetype": "text/x-python",
   "name": "python",
   "nbconvert_exporter": "python",
   "pygments_lexer": "ipython2",
   "version": "2.7.6"
  }
 },
 "nbformat": 4,
 "nbformat_minor": 5
}
